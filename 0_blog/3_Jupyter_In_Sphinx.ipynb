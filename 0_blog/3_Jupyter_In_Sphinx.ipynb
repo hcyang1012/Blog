{
 "cells": [
  {
   "cell_type": "markdown",
   "metadata": {
    "colab_type": "text",
    "id": "6bwFqeBX1015"
   },
   "source": [
    "# Sphinx에서 Jupyter Notebook 사용하기"
   ]
  },
  {
   "cell_type": "markdown",
   "metadata": {
    "colab_type": "text",
    "id": "IdkDPApW4AsU"
   },
   "source": [
    "요즘 Jupyter Notebook에서 작업을 많이 하다 보니 이를 Sphinx + Markdown 기반의 블로그에 업로드 하려면 변환을 해야 하는 작업이 필요했다. \n",
    "\n",
    "이게 귀찮아서 이것저것 찾아보니 [nbsphinx](https://nbsphinx.readthedocs.io/en/0.7.1/) 라는 것이 있어서 .ipynb 파일을 그대로 이용 할 수 있었다. 이 글에서는 이에 대해 정리해 보자."
   ]
  },
  {
   "cell_type": "markdown",
   "metadata": {
    "colab_type": "text",
    "id": "_To9J3GB49ei"
   },
   "source": [
    "## 환경 설정"
   ]
  },
  {
   "cell_type": "markdown",
   "metadata": {
    "colab_type": "text",
    "id": "8_H8JYxt6JC0"
   },
   "source": [
    "## conf.py  변경\n",
    "\n",
    "\n",
    "\n",
    "```python\n",
    "extensions = [\n",
    "        'recommonmark',\n",
    "        'sphinx_markdown_tables',\n",
    "        'nbsphinx', #이 라인을 추가\n",
    "]\n",
    "```\n",
    "\n"
   ]
  },
  {
   "cell_type": "code",
   "execution_count": 1,
   "metadata": {
    "colab": {},
    "colab_type": "code",
    "id": "MV6L53KC7dH6"
   },
   "outputs": [],
   "source": []
  },
  {
   "cell_type": "markdown",
   "metadata": {
    "colab_type": "text",
    "id": "CY723jJC7gFR"
   },
   "source": [
    "## Index.rst 파일 변경\n",
    "```\n",
    "About this blog\n",
    "================================\n",
    "\n",
    ".. toctree::\n",
    "\t:glob:\n",
    "\t:titlesonly:\n",
    "\t\n",
    "\t3_python_test # 추가를 원하는 .ipynb 파일의 확장자(.ipynb)를 제외한 파일 명을 toctree에 추가\n",
    "\t./**\n",
    "```\n"
   ]
  },
  {
   "cell_type": "code",
   "execution_count": 1,
   "metadata": {
    "colab": {},
    "colab_type": "code",
    "id": "Yy-exl2D7ghV"
   },
   "outputs": [],
   "source": []
  }
 ],
 "metadata": {
  "colab": {
   "collapsed_sections": [],
   "name": "3_Jupyter_In_Sphinx.ipynb",
   "provenance": []
  },
  "kernelspec": {
   "display_name": "Python 3",
   "name": "python3"
  }
 },
 "nbformat": 4,
 "nbformat_minor": 0
}
